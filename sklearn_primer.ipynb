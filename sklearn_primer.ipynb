{
 "cells": [
  {
   "cell_type": "markdown",
   "id": "1420fce4-4040-4dac-82c8-53fd28b2edd5",
   "metadata": {},
   "source": [
    "# A primer on scikit-Learn\n",
    "\n",
    "[scikit-learn](https://scikit-learn.org/stable/index.html) is a Python library that has a ton of easy to use machine learning functions. It was originally released in 2010 and has enjoyed active development and a lot of use since. It is open source and commercially usable, indeed various big names use it, including Spotify. Spotify tends to make better automated playlists than the other streaming services so that seems like as good a recommendation for scikit-learn as any!\n",
    "\n",
    "Install instructions are [here](https://scikit-learn.org/stable/install.html#installation-instructions), but you can use the regular conda or pip syntax unless you have an unusual situation.\n",
    "\n",
    "Probably best to make a conda environment for machine learning and install scikit-learn in there to avoid conflicts.\n",
    "\n",
    "Typically you will see scikit-learn loaded as sklearn and I will use that abbreviation henceforth.\n",
    "\n",
    "To illustrate how easy it is to do stuff with sklearn, lets do an example from Géron \"Hands-On Machine Learning with Scikit-Learn & TensorFlow\". I have modified the code a fair bit since some of the syntax in the book is deprecated. I also cribbed a lot of code from a sklearn [example](https://scikit-learn.org/stable/auto_examples/classification/plot_digits_classification.html). We will do the classic letter classification using MNIST.\n",
    "\n",
    "# MNIST fun\n",
    "First, load data. sklearn has a bunch of common datasets, including various small toy sets, like this one, and some large datasets that emulate real world problems. See [the package docs](https://scikit-learn.org/stable/datasets.html) for more.\n",
    "\n",
    "The images are 8x8 pixels of digits written somewhat crappily. "
   ]
  },
  {
   "cell_type": "code",
   "execution_count": 47,
   "id": "e211bd32-fd05-4442-8ef4-8567a6076a03",
   "metadata": {},
   "outputs": [
    {
     "data": {
      "text/plain": [
       "<Figure size 432x288 with 0 Axes>"
      ]
     },
     "metadata": {},
     "output_type": "display_data"
    },
    {
     "data": {
      "image/png": "[encoded data removed]",
      "text/plain": [
       "<Figure size 288x288 with 1 Axes>"
      ]
     },
     "metadata": {
      "needs_background": "light"
     },
     "output_type": "display_data"
    }
   ],
   "source": [
    "#!conda install sklearn -y\n",
    "#!conda install matplotlib -y\n",
    "\n",
    "import matplotlib.pyplot as plt \n",
    "from sklearn import datasets, svm, metrics\n",
    "from sklearn.linear_model import SGDClassifier\n",
    "from sklearn.model_selection import train_test_split\n",
    "\n",
    "digits = load_digits()\n",
    "\n",
    "#check out the poorly drawn digit\n",
    "\n",
    "plt.gray() \n",
    "plt.matshow(digits.images[2]) \n",
    "plt.show() "
   ]
  },
  {
   "cell_type": "markdown",
   "id": "36e2f399-8d8c-419f-9aa7-b7fef2580ccc",
   "metadata": {},
   "source": [
    "We need to reshape the data so it works with our particular learner. len is length, so the first line tells us how many images we have. The images.reshape command is used to change the 8x8 image into a vector of shape (64,). Note the null value after the comma. I have found several machine learning tools need that format for input, e.g., (64,1) would not work, though that is what we might think the dimensions should be. "
   ]
  },
  {
   "cell_type": "code",
   "execution_count": 29,
   "id": "a8328010-2d9c-4119-a22a-49cf831983e5",
   "metadata": {},
   "outputs": [
    {
     "name": "stdout",
     "output_type": "stream",
     "text": [
      "(1797, 8, 8)\n",
      "(1797, 64)\n"
     ]
    }
   ],
   "source": [
    "# flatten the images\n",
    "n_samples = len(digits.images)\n",
    "\n",
    "print(digits.images.shape)\n",
    "data = digits.images.reshape((n_samples, -1))\n",
    "print(data.shape)"
   ]
  },
  {
   "cell_type": "code",
   "execution_count": 31,
   "id": "81c4d4f6-2104-4fe2-a827-553b5fa3478b",
   "metadata": {},
   "outputs": [
    {
     "name": "stdout",
     "output_type": "stream",
     "text": [
      "(1257, 64)\n",
      "(540, 64)\n"
     ]
    }
   ],
   "source": [
    "# Split data into 70% train and 30% test subsets\n",
    "x_train, x_test, y_train, y_test = train_test_split(\n",
    "    data, digits.target, test_size=0.3, shuffle=False, random_state = 666)\n",
    "\n",
    "print(x_train.shape)\n",
    "print(x_test.shape)"
   ]
  },
  {
   "cell_type": "markdown",
   "id": "d3dad93a-29c8-4ce8-a809-fb32bb804f25",
   "metadata": {},
   "source": [
    "Next, we need to do a train/test split. sklearn comes with some very handy tools for this. This is a simple example, where we do not attempt to stratify the split in any way. \"test_size\" refers to the proportion of the split going to testing data. \"shuffle\" is if the data should be shuffled before splitting, as would be needed if the data had been ordered in some way (as they probably will have been for many biology datasets). \"random_state\" is the seed for the shuffling.\n",
    "\n",
    "Next, we define a classifier. This just specifies the model, nothing is learned yet. We will use a support vector classifier, because that is what sklearn's example used. For large datasets this will be slow and some other classifier will probably work better. Like the SGDClassifier, which Géron uses. Heck, lets do that one too!"
   ]
  },
  {
   "cell_type": "code",
   "execution_count": 51,
   "id": "9eec4b0d-0cc5-4897-bb3f-82f6f979bf31",
   "metadata": {},
   "outputs": [],
   "source": [
    "# Create a support vector classifier\n",
    "clf = svm.SVC()\n",
    "sgd = SGDClassifier(random_state = 666)"
   ]
  },
  {
   "cell_type": "code",
   "execution_count": 52,
   "id": "c9e0dea5-924d-4b16-8a44-522c58c1b85d",
   "metadata": {},
   "outputs": [],
   "source": [
    "#train\n",
    "clf.fit(x_train, y_train)\n",
    "#predict\n",
    "predicted = clf.predict(x_test)"
   ]
  },
  {
   "cell_type": "code",
   "execution_count": 53,
   "id": "fc28cbe4-d174-4eae-8fc5-fd2b81b35612",
   "metadata": {},
   "outputs": [
    {
     "data": {
      "image/png": "[encoded data removed]",
      "text/plain": [
       "<Figure size 720x216 with 4 Axes>"
      ]
     },
     "metadata": {
      "needs_background": "light"
     },
     "output_type": "display_data"
    }
   ],
   "source": [
    "_, axes = plt.subplots(nrows=1, ncols=4, figsize=(10, 3))\n",
    "for ax, image, prediction in zip(axes, X_test, predicted):\n",
    "    ax.set_axis_off()\n",
    "    image = image.reshape(8, 8)\n",
    "    ax.imshow(image, cmap=plt.cm.gray_r, interpolation='nearest')\n",
    "    ax.set_title(f'Prediction: {prediction}')"
   ]
  },
  {
   "cell_type": "markdown",
   "id": "c43906df-b07a-4074-b46b-a47b27b8d1bf",
   "metadata": {},
   "source": [
    "It doesn't look like it did all that well to me. Here is some handy code to see how the classifier did. "
   ]
  },
  {
   "cell_type": "code",
   "execution_count": 54,
   "id": "7277832c-8806-4a5a-9a8a-7590989536d3",
   "metadata": {},
   "outputs": [
    {
     "name": "stdout",
     "output_type": "stream",
     "text": [
      "Classification report for classifier SVC():\n",
      "              precision    recall  f1-score   support\n",
      "\n",
      "           0       0.98      0.98      0.98        53\n",
      "           1       0.96      0.98      0.97        53\n",
      "           2       1.00      0.96      0.98        53\n",
      "           3       0.96      0.83      0.89        53\n",
      "           4       0.98      0.95      0.96        57\n",
      "           5       0.92      0.98      0.95        56\n",
      "           6       0.98      0.98      0.98        54\n",
      "           7       0.96      0.98      0.97        54\n",
      "           8       0.88      0.96      0.92        52\n",
      "           9       0.93      0.93      0.93        55\n",
      "\n",
      "    accuracy                           0.95       540\n",
      "   macro avg       0.95      0.95      0.95       540\n",
      "weighted avg       0.95      0.95      0.95       540\n",
      "\n",
      "\n"
     ]
    }
   ],
   "source": [
    "print(f\"Classification report for classifier {clf}:\\n\"\n",
    "      f\"{metrics.classification_report(y_test, predicted)}\\n\")"
   ]
  },
  {
   "cell_type": "markdown",
   "id": "d24b3dba-6480-464d-b035-d7a5354d36d7",
   "metadata": {},
   "source": [
    "Precision is the proportion of all positives that were correct. So it is a measure of how often the model is correct. Recall is  the ratio of true positives to true positives plus false negatives. So it can be thought of as how likely it is to identify a given digit either positively or negatively. See the [wiki](https://en.wikipedia.org/wiki/Precision_and_recall) page for more if this seems odd. \n",
    "\n",
    "F1 is the harmonic mean of precision and recall. Support is the number of times a particular class shows up in the data set (e.g., there are 53 number threes in this set).\n",
    "\n",
    "Let's repeat all this with the SGD classifier. Seems the same. "
   ]
  },
  {
   "cell_type": "code",
   "execution_count": 55,
   "id": "22c260a3-d4a1-40ac-936c-662a9ab25849",
   "metadata": {},
   "outputs": [
    {
     "name": "stdout",
     "output_type": "stream",
     "text": [
      "Classification report for classifier SVC():\n",
      "              precision    recall  f1-score   support\n",
      "\n",
      "           0       0.98      0.98      0.98        53\n",
      "           1       0.96      0.98      0.97        53\n",
      "           2       1.00      0.96      0.98        53\n",
      "           3       0.96      0.83      0.89        53\n",
      "           4       0.98      0.95      0.96        57\n",
      "           5       0.92      0.98      0.95        56\n",
      "           6       0.98      0.98      0.98        54\n",
      "           7       0.96      0.98      0.97        54\n",
      "           8       0.88      0.96      0.92        52\n",
      "           9       0.93      0.93      0.93        55\n",
      "\n",
      "    accuracy                           0.95       540\n",
      "   macro avg       0.95      0.95      0.95       540\n",
      "weighted avg       0.95      0.95      0.95       540\n",
      "\n",
      "\n"
     ]
    },
    {
     "data": {
      "image/png": "[encoded data removed]",
      "text/plain": [
       "<Figure size 720x216 with 4 Axes>"
      ]
     },
     "metadata": {
      "needs_background": "light"
     },
     "output_type": "display_data"
    }
   ],
   "source": [
    "#train\n",
    "sgd.fit(x_train, y_train)\n",
    "\n",
    "#predict\n",
    "predicted = sgd.predict(x_test)\n",
    "\n",
    "_, axes = plt.subplots(nrows=1, ncols=4, figsize=(10, 3))\n",
    "for ax, image, prediction in zip(axes, X_test, predicted):\n",
    "    ax.set_axis_off()\n",
    "    image = image.reshape(8, 8)\n",
    "    ax.imshow(image, cmap=plt.cm.gray_r, interpolation='nearest')\n",
    "    ax.set_title(f'Prediction: {prediction}')\n",
    "    \n",
    "print(f\"Classification report for classifier {clf}:\\n\"\n",
    "      f\"{metrics.classification_report(y_test, predicted)}\\n\")"
   ]
  },
  {
   "cell_type": "markdown",
   "id": "29db642a-5cf3-42f6-9a0c-18b89d2df55b",
   "metadata": {},
   "source": [
    "If we want to, we can plot a confusion matrix. With a name like that who wouldn't want to take a peak?"
   ]
  },
  {
   "cell_type": "code",
   "execution_count": 49,
   "id": "59905199-31d5-4061-843d-6918658b90c2",
   "metadata": {},
   "outputs": [
    {
     "name": "stdout",
     "output_type": "stream",
     "text": [
      "Confusion matrix:\n",
      "[[52  0  0  0  1  0  0  0  0  0]\n",
      " [ 0 53  0  0  0  0  0  0  0  0]\n",
      " [ 0  0 52  1  0  0  0  0  0  0]\n",
      " [ 0  0  0 47  0  2  0  0  4  0]\n",
      " [ 0  0  0  0 54  0  0  0  1  2]\n",
      " [ 0  0  0  0  0 55  1  0  0  0]\n",
      " [ 0  1  0  0  0  0 53  0  0  0]\n",
      " [ 0  0  0  0  0  0  0 54  0  0]\n",
      " [ 0  1  0  0  0  0  0  0 51  0]\n",
      " [ 0  0  0  1  0  1  0  0  0 53]]\n"
     ]
    },
    {
     "data": {
      "image/png": "[encoded data removed]",
      "text/plain": [
       "<Figure size 432x288 with 2 Axes>"
      ]
     },
     "metadata": {
      "needs_background": "light"
     },
     "output_type": "display_data"
    }
   ],
   "source": [
    "disp = metrics.plot_confusion_matrix(clf, x_test, y_test)\n",
    "disp.figure_.suptitle(\"Confusion Matrix\")\n",
    "print(f\"Confusion matrix:\\n{disp.confusion_matrix}\")\n",
    "\n",
    "plt.show()"
   ]
  },
  {
   "cell_type": "markdown",
   "id": "fccf01ba-feef-40da-a4a1-c74484b7413d",
   "metadata": {},
   "source": [
    "This is telling us truth versus predicted for each class. The diagonal line shows the number of times the model did well and the off-diagonal values show how the model failed.\n",
    "\n",
    "# Sklearn seems cool, what else?\n",
    "\n",
    "From the docs: \"scikit-learn has on the order of 100 to 200 models (more generally called \"estimators\"), split into three categories: <br>\n",
    "Supervised Learning (linear regression, support vector machines, random forest, neural nets, ...)<br>\n",
    "Unsupervised Learning (clustering, PCA, mixture models, manifold learning, ...)<br>\n",
    "Dataset Transformation (preprocessing, text feature extraction, one-hot encoding, ...)<br>\n",
    "\n",
    "Each model that I have messed with has a huge number of parameters to play with and, as we have seen, plotting useful output can be pretty simple with matplotlib. Also, sklearn can do some of its own plots too. But, what really seems to be sweet about sklearn, is how you can make Pipeline class objects that codify various preprocessing (feature engineering) steps and then \"exposes\" these methods to the estimator. In effect, it is a way to make a function that does a bunch of preprocessing steps easily and then feeds the engineered data product into a model. This is great because then you can try different parameters for the estimator or for preprocessing and then do model comparison. From the docs..."
   ]
  },
  {
   "cell_type": "code",
   "execution_count": 57,
   "id": "3c7d82ab-9e12-4aa9-b299-3aa245c294ba",
   "metadata": {},
   "outputs": [
    {
     "data": {
      "text/plain": [
       "0.88"
      ]
     },
     "execution_count": 57,
     "metadata": {},
     "output_type": "execute_result"
    }
   ],
   "source": [
    "from sklearn.preprocessing import StandardScaler\n",
    "from sklearn.svm import SVC\n",
    "from sklearn.datasets import make_classification\n",
    "from sklearn.pipeline import Pipeline\n",
    "X, y = make_classification(random_state=0)\n",
    "X_train, X_test, y_train, y_test = train_test_split(X, y,random_state=0)\n",
    "pipe = Pipeline([('scaler', StandardScaler()), ('svc', SVC())])\n",
    "pipe.fit(X_train, y_train)\n",
    "#Call the pipeline\n",
    "Pipeline(steps=[('scaler', StandardScaler()), ('svc', SVC())])\n",
    "pipe.score(X_test, y_test)"
   ]
  },
  {
   "cell_type": "markdown",
   "id": "67dac16d-977a-4886-b596-cc7fab4a82fb",
   "metadata": {},
   "source": [
    "This may not seem that great, but say you want to do all this stuff to your data:\n",
    "\n",
    "1. impute data\n",
    "2. combine or modify certain features\n",
    "3. scale and center (calculate z scores) features. \n",
    "4. One hot encode a bunch of stuff. \n",
    "5. combine numeric and one-hot encoded categorical features into one giant matrix\n",
    "\n",
    "You could put all this stuff in a pipeline that feeds straight into an estimator (model). Pretty handy. I copied some code demonstrating this from [HERE](https://towardsdatascience.com/10-things-you-didnt-know-about-scikit-learn-cccc94c50e4f)."
   ]
  },
  {
   "cell_type": "code",
   "execution_count": 58,
   "id": "3b39e740-a6aa-4512-b511-e586c06c0fc3",
   "metadata": {},
   "outputs": [
    {
     "name": "stdout",
     "output_type": "stream",
     "text": [
      "model score: 0.766\n"
     ]
    }
   ],
   "source": [
    "from sklearn import model_selection\n",
    "from sklearn.linear_model import LinearRegression\n",
    "from sklearn.datasets import fetch_openml\n",
    "from sklearn.compose import ColumnTransformer\n",
    "from sklearn.pipeline import Pipeline\n",
    "from sklearn.impute import SimpleImputer\n",
    "from sklearn.preprocessing import StandardScaler, OneHotEncoder\n",
    "\n",
    "# Load auto93 data set which contains both categorical and numeric features\n",
    "X,y = fetch_openml(\"auto93\", version=1, as_frame=True, return_X_y=True)\n",
    "\n",
    "# Create lists of numeric and categorical features  \n",
    "numeric_features = X.select_dtypes(include=['int64', 'float64']).columns\n",
    "categorical_features = X.select_dtypes(include=['object']).columns\n",
    "\n",
    "X_train, X_test, y_train, y_test = model_selection.train_test_split(X, y, random_state=0)\n",
    "\n",
    "# Create a numeric and categorical transformer to perform preprocessing steps\n",
    "numeric_transformer = Pipeline(steps=[\n",
    "    ('imputer', SimpleImputer(strategy='median')),\n",
    "    ('scaler', StandardScaler())])\n",
    "\n",
    "categorical_transformer = Pipeline(steps=[\n",
    "    ('imputer', SimpleImputer(strategy='constant', fill_value='missing')),\n",
    "    ('onehot', OneHotEncoder(handle_unknown='ignore'))])\n",
    "\n",
    "# Use the ColumnTransformer to apply to the correct features\n",
    "preprocessor = ColumnTransformer(\n",
    "    transformers=[\n",
    "        ('num', numeric_transformer, numeric_features),\n",
    "        ('cat', categorical_transformer, categorical_features)])\n",
    "\n",
    "# Append regressor to the preprocessor\n",
    "lr = Pipeline(steps=[('preprocessor', preprocessor),\n",
    "                      ('classifier', LinearRegression())])\n",
    "\n",
    "# Fit the complete pipeline\n",
    "lr.fit(X_train, y_train)\n",
    "print(\"model score: %.3f\" % lr.score(X_test, y_test))"
   ]
  },
  {
   "cell_type": "markdown",
   "id": "67cc9fd0-f06b-4fe3-af11-e5a9ce44d5f9",
   "metadata": {},
   "source": [
    "Make a html flowchart, bc why not. Code from the last referenced link.  "
   ]
  },
  {
   "cell_type": "code",
   "execution_count": 60,
   "id": "29f17270-a421-40b9-a180-89e08b6d6ea5",
   "metadata": {},
   "outputs": [
    {
     "data": {
      "text/html": [
       "<style>#sk-9d78ce27-a1d0-434d-9e06-b0b7c142b0f8 {color: black;background-color: white;}#sk-9d78ce27-a1d0-434d-9e06-b0b7c142b0f8 pre{padding: 0;}#sk-9d78ce27-a1d0-434d-9e06-b0b7c142b0f8 div.sk-toggleable {background-color: white;}#sk-9d78ce27-a1d0-434d-9e06-b0b7c142b0f8 label.sk-toggleable__label {cursor: pointer;display: block;width: 100%;margin-bottom: 0;padding: 0.2em 0.3em;box-sizing: border-box;text-align: center;}#sk-9d78ce27-a1d0-434d-9e06-b0b7c142b0f8 div.sk-toggleable__content {max-height: 0;max-width: 0;overflow: hidden;text-align: left;background-color: #f0f8ff;}#sk-9d78ce27-a1d0-434d-9e06-b0b7c142b0f8 div.sk-toggleable__content pre {margin: 0.2em;color: black;border-radius: 0.25em;background-color: #f0f8ff;}#sk-9d78ce27-a1d0-434d-9e06-b0b7c142b0f8 input.sk-toggleable__control:checked~div.sk-toggleable__content {max-height: 200px;max-width: 100%;overflow: auto;}#sk-9d78ce27-a1d0-434d-9e06-b0b7c142b0f8 div.sk-estimator input.sk-toggleable__control:checked~label.sk-toggleable__label {background-color: #d4ebff;}#sk-9d78ce27-a1d0-434d-9e06-b0b7c142b0f8 div.sk-label input.sk-toggleable__control:checked~label.sk-toggleable__label {background-color: #d4ebff;}#sk-9d78ce27-a1d0-434d-9e06-b0b7c142b0f8 input.sk-hidden--visually {border: 0;clip: rect(1px 1px 1px 1px);clip: rect(1px, 1px, 1px, 1px);height: 1px;margin: -1px;overflow: hidden;padding: 0;position: absolute;width: 1px;}#sk-9d78ce27-a1d0-434d-9e06-b0b7c142b0f8 div.sk-estimator {font-family: monospace;background-color: #f0f8ff;margin: 0.25em 0.25em;border: 1px dotted black;border-radius: 0.25em;box-sizing: border-box;}#sk-9d78ce27-a1d0-434d-9e06-b0b7c142b0f8 div.sk-estimator:hover {background-color: #d4ebff;}#sk-9d78ce27-a1d0-434d-9e06-b0b7c142b0f8 div.sk-parallel-item::after {content: \"\";width: 100%;border-bottom: 1px solid gray;flex-grow: 1;}#sk-9d78ce27-a1d0-434d-9e06-b0b7c142b0f8 div.sk-label:hover label.sk-toggleable__label {background-color: #d4ebff;}#sk-9d78ce27-a1d0-434d-9e06-b0b7c142b0f8 div.sk-serial::before {content: \"\";position: absolute;border-left: 1px solid gray;box-sizing: border-box;top: 2em;bottom: 0;left: 50%;}#sk-9d78ce27-a1d0-434d-9e06-b0b7c142b0f8 div.sk-serial {display: flex;flex-direction: column;align-items: center;background-color: white;}#sk-9d78ce27-a1d0-434d-9e06-b0b7c142b0f8 div.sk-item {z-index: 1;}#sk-9d78ce27-a1d0-434d-9e06-b0b7c142b0f8 div.sk-parallel {display: flex;align-items: stretch;justify-content: center;background-color: white;}#sk-9d78ce27-a1d0-434d-9e06-b0b7c142b0f8 div.sk-parallel-item {display: flex;flex-direction: column;position: relative;background-color: white;}#sk-9d78ce27-a1d0-434d-9e06-b0b7c142b0f8 div.sk-parallel-item:first-child::after {align-self: flex-end;width: 50%;}#sk-9d78ce27-a1d0-434d-9e06-b0b7c142b0f8 div.sk-parallel-item:last-child::after {align-self: flex-start;width: 50%;}#sk-9d78ce27-a1d0-434d-9e06-b0b7c142b0f8 div.sk-parallel-item:only-child::after {width: 0;}#sk-9d78ce27-a1d0-434d-9e06-b0b7c142b0f8 div.sk-dashed-wrapped {border: 1px dashed gray;margin: 0.2em;box-sizing: border-box;padding-bottom: 0.1em;background-color: white;position: relative;}#sk-9d78ce27-a1d0-434d-9e06-b0b7c142b0f8 div.sk-label label {font-family: monospace;font-weight: bold;background-color: white;display: inline-block;line-height: 1.2em;}#sk-9d78ce27-a1d0-434d-9e06-b0b7c142b0f8 div.sk-label-container {position: relative;z-index: 2;text-align: center;}#sk-9d78ce27-a1d0-434d-9e06-b0b7c142b0f8 div.sk-container {display: inline-block;position: relative;}</style><div id=\"sk-9d78ce27-a1d0-434d-9e06-b0b7c142b0f8\" class\"sk-top-container\"><div class=\"sk-container\"><div class=\"sk-item sk-dashed-wrapped\"><div class=\"sk-label-container\"><div class=\"sk-label sk-toggleable\"><input class=\"sk-toggleable__control sk-hidden--visually\" id=\"40db575f-d16b-4dd5-85c6-aef42c573cf0\" type=\"checkbox\" ><label class=\"sk-toggleable__label\" for=\"40db575f-d16b-4dd5-85c6-aef42c573cf0\">Pipeline</label><div class=\"sk-toggleable__content\"><pre>Pipeline(steps=[('preprocessor',\n",
       "                 ColumnTransformer(transformers=[('num',\n",
       "                                                  Pipeline(steps=[('imputer',\n",
       "                                                                   SimpleImputer(strategy='median')),\n",
       "                                                                  ('scaler',\n",
       "                                                                   StandardScaler())]),\n",
       "                                                  Index(['City_MPG', 'Highway_MPG', 'Number_of_cylinders', 'Engine_size',\n",
       "       'Horsepower', 'RPM', 'Engine_revolutions_per_mile',\n",
       "       'Fuel_tank_capacity', 'Passenger_capacity', 'Length', 'Wheelbase',\n",
       "       'Width', 'U-turn_space', 'Rear_seat_room', 'Luggage_capacity',\n",
       "       'Weight'],\n",
       "      dtype='object')),\n",
       "                                                 ('cat',\n",
       "                                                  Pipeline(steps=[('imputer',\n",
       "                                                                   SimpleImputer(fill_value='missing',\n",
       "                                                                                 strategy='constant')),\n",
       "                                                                  ('onehot',\n",
       "                                                                   OneHotEncoder(handle_unknown='ignore'))]),\n",
       "                                                  Index([], dtype='object'))])),\n",
       "                ('classifier', LinearRegression())])</pre></div></div></div><div class=\"sk-serial\"><div class=\"sk-item sk-dashed-wrapped\"><div class=\"sk-label-container\"><div class=\"sk-label sk-toggleable\"><input class=\"sk-toggleable__control sk-hidden--visually\" id=\"79e610fe-a999-46ec-abcc-d2db682259c3\" type=\"checkbox\" ><label class=\"sk-toggleable__label\" for=\"79e610fe-a999-46ec-abcc-d2db682259c3\">preprocessor: ColumnTransformer</label><div class=\"sk-toggleable__content\"><pre>ColumnTransformer(transformers=[('num',\n",
       "                                 Pipeline(steps=[('imputer',\n",
       "                                                  SimpleImputer(strategy='median')),\n",
       "                                                 ('scaler', StandardScaler())]),\n",
       "                                 Index(['City_MPG', 'Highway_MPG', 'Number_of_cylinders', 'Engine_size',\n",
       "       'Horsepower', 'RPM', 'Engine_revolutions_per_mile',\n",
       "       'Fuel_tank_capacity', 'Passenger_capacity', 'Length', 'Wheelbase',\n",
       "       'Width', 'U-turn_space', 'Rear_seat_room', 'Luggage_capacity',\n",
       "       'Weight'],\n",
       "      dtype='object')),\n",
       "                                ('cat',\n",
       "                                 Pipeline(steps=[('imputer',\n",
       "                                                  SimpleImputer(fill_value='missing',\n",
       "                                                                strategy='constant')),\n",
       "                                                 ('onehot',\n",
       "                                                  OneHotEncoder(handle_unknown='ignore'))]),\n",
       "                                 Index([], dtype='object'))])</pre></div></div></div><div class=\"sk-parallel\"><div class=\"sk-parallel-item\"><div class=\"sk-item\"><div class=\"sk-label-container\"><div class=\"sk-label sk-toggleable\"><input class=\"sk-toggleable__control sk-hidden--visually\" id=\"834bec26-860c-48a5-9182-942fa4c76f79\" type=\"checkbox\" ><label class=\"sk-toggleable__label\" for=\"834bec26-860c-48a5-9182-942fa4c76f79\">num</label><div class=\"sk-toggleable__content\"><pre>Index(['City_MPG', 'Highway_MPG', 'Number_of_cylinders', 'Engine_size',\n",
       "       'Horsepower', 'RPM', 'Engine_revolutions_per_mile',\n",
       "       'Fuel_tank_capacity', 'Passenger_capacity', 'Length', 'Wheelbase',\n",
       "       'Width', 'U-turn_space', 'Rear_seat_room', 'Luggage_capacity',\n",
       "       'Weight'],\n",
       "      dtype='object')</pre></div></div></div><div class=\"sk-serial\"><div class=\"sk-item\"><div class=\"sk-serial\"><div class=\"sk-item\"><div class=\"sk-estimator sk-toggleable\"><input class=\"sk-toggleable__control sk-hidden--visually\" id=\"6bb5f885-a243-4b0f-9a32-8d3e66e8d3a3\" type=\"checkbox\" ><label class=\"sk-toggleable__label\" for=\"6bb5f885-a243-4b0f-9a32-8d3e66e8d3a3\">SimpleImputer</label><div class=\"sk-toggleable__content\"><pre>SimpleImputer(strategy='median')</pre></div></div></div><div class=\"sk-item\"><div class=\"sk-estimator sk-toggleable\"><input class=\"sk-toggleable__control sk-hidden--visually\" id=\"21447db0-d8a7-45bb-ad15-cc6290b0ace9\" type=\"checkbox\" ><label class=\"sk-toggleable__label\" for=\"21447db0-d8a7-45bb-ad15-cc6290b0ace9\">StandardScaler</label><div class=\"sk-toggleable__content\"><pre>StandardScaler()</pre></div></div></div></div></div></div></div></div><div class=\"sk-parallel-item\"><div class=\"sk-item\"><div class=\"sk-label-container\"><div class=\"sk-label sk-toggleable\"><input class=\"sk-toggleable__control sk-hidden--visually\" id=\"7b7f71de-3770-4385-a0cf-53c787949af3\" type=\"checkbox\" ><label class=\"sk-toggleable__label\" for=\"7b7f71de-3770-4385-a0cf-53c787949af3\">cat</label><div class=\"sk-toggleable__content\"><pre>Index([], dtype='object')</pre></div></div></div><div class=\"sk-serial\"><div class=\"sk-item\"><div class=\"sk-serial\"><div class=\"sk-item\"><div class=\"sk-estimator sk-toggleable\"><input class=\"sk-toggleable__control sk-hidden--visually\" id=\"54e37bfa-977e-4b87-9e0d-b48eea2ca79f\" type=\"checkbox\" ><label class=\"sk-toggleable__label\" for=\"54e37bfa-977e-4b87-9e0d-b48eea2ca79f\">SimpleImputer</label><div class=\"sk-toggleable__content\"><pre>SimpleImputer(fill_value='missing', strategy='constant')</pre></div></div></div><div class=\"sk-item\"><div class=\"sk-estimator sk-toggleable\"><input class=\"sk-toggleable__control sk-hidden--visually\" id=\"f08d5233-533d-4a91-a466-5fda583ec46a\" type=\"checkbox\" ><label class=\"sk-toggleable__label\" for=\"f08d5233-533d-4a91-a466-5fda583ec46a\">OneHotEncoder</label><div class=\"sk-toggleable__content\"><pre>OneHotEncoder(handle_unknown='ignore')</pre></div></div></div></div></div></div></div></div></div></div><div class=\"sk-item\"><div class=\"sk-estimator sk-toggleable\"><input class=\"sk-toggleable__control sk-hidden--visually\" id=\"03d8864b-cc49-4133-a15d-217b501469b0\" type=\"checkbox\" ><label class=\"sk-toggleable__label\" for=\"03d8864b-cc49-4133-a15d-217b501469b0\">LinearRegression</label><div class=\"sk-toggleable__content\"><pre>LinearRegression()</pre></div></div></div></div></div></div></div>"
      ],
      "text/plain": [
       "Pipeline(steps=[('preprocessor',\n",
       "                 ColumnTransformer(transformers=[('num',\n",
       "                                                  Pipeline(steps=[('imputer',\n",
       "                                                                   SimpleImputer(strategy='median')),\n",
       "                                                                  ('scaler',\n",
       "                                                                   StandardScaler())]),\n",
       "                                                  Index(['City_MPG', 'Highway_MPG', 'Number_of_cylinders', 'Engine_size',\n",
       "       'Horsepower', 'RPM', 'Engine_revolutions_per_mile',\n",
       "       'Fuel_tank_capacity', 'Passenger_capacity', 'Length', 'Wheelbase',\n",
       "       'Width', 'U-turn_space', 'Rear_seat_room', 'Luggage_capacity',\n",
       "       'Weight'],\n",
       "      dtype='object')),\n",
       "                                                 ('cat',\n",
       "                                                  Pipeline(steps=[('imputer',\n",
       "                                                                   SimpleImputer(fill_value='missing',\n",
       "                                                                                 strategy='constant')),\n",
       "                                                                  ('onehot',\n",
       "                                                                   OneHotEncoder(handle_unknown='ignore'))]),\n",
       "                                                  Index([], dtype='object'))])),\n",
       "                ('classifier', LinearRegression())])"
      ]
     },
     "execution_count": 60,
     "metadata": {},
     "output_type": "execute_result"
    }
   ],
   "source": [
    "from sklearn import set_config\n",
    "\n",
    "set_config(display='diagram')   \n",
    "\n",
    "lr"
   ]
  },
  {
   "cell_type": "markdown",
   "id": "212c5803-578c-4131-8b0c-0762f3e79479",
   "metadata": {},
   "source": [
    "For more, check out the random forest code I made. It uses some of the stuff shown here, but adds a bit too it. "
   ]
  }
 ],
 "metadata": {
  "kernelspec": {
   "display_name": "Python 3",
   "language": "python",
   "name": "python3"
  },
  "language_info": {
   "codemirror_mode": {
    "name": "ipython",
    "version": 3
   },
   "file_extension": ".py",
   "mimetype": "text/x-python",
   "name": "python",
   "nbconvert_exporter": "python",
   "pygments_lexer": "ipython3",
   "version": "3.8.8"
  }
 },
 "nbformat": 4,
 "nbformat_minor": 5
}

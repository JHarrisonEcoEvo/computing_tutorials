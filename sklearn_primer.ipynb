{
 "cells": [
  {
   "cell_type": "markdown",
   "id": "1420fce4-4040-4dac-82c8-53fd28b2edd5",
   "metadata": {},
   "source": [
    "# A primer on scikit-Learn\n",
    "\n",
    "[scikit-learn](https://scikit-learn.org/stable/index.html) is a Python library that has a ton of easy to use machine learning functions. It was originally released in 2010 and has enjoyed active development and a lot of use since. It is open source and commercially usable, indeed various big names use it, including Spotify. Spotify tends to make better automated playlists than the other streaming services so that seems like as good a recommendation for scikit-learn as any!\n",
    "\n",
    "Install instructions are [here](https://scikit-learn.org/stable/install.html#installation-instructions)\n",
    "\n",
    "Probably best to make a conda environment for machine learning and install scikit-learn in there to avoid conflicts.\n",
    "\n",
    "Typically you will see scikit-learn loaded as sklearn and I will use that abbreviation henceforth.\n",
    "\n",
    "To illustrate how easy it is to do stuff with sklearn, lets do an example from Géron \"Hands-On Machine Learning with Scikit-Learn & TensorFlow\". I have modified the code a bit since some of the syntax in the book is deprecated. We will do the classic letter classification using MNIST.\n",
    "\n",
    "# MNIST fun\n",
    "First, load data. sklearn has a bunch of common datasets. Load and plot some, for kicks. "
   ]
  },
  {
   "cell_type": "code",
   "execution_count": 8,
   "id": "e211bd32-fd05-4442-8ef4-8567a6076a03",
   "metadata": {},
   "outputs": [
    {
     "data": {
      "text/plain": [
       "<Figure size 432x288 with 0 Axes>"
      ]
     },
     "metadata": {},
     "output_type": "display_data"
    },
    {
     "data": {
      "image/png": "[encoded data removed]",
      "text/plain": [
       "<Figure size 288x288 with 1 Axes>"
      ]
     },
     "metadata": {
      "needs_background": "light"
     },
     "output_type": "display_data"
    }
   ],
   "source": [
    "#conda install sklearn -y\n",
    "\n",
    "from sklearn.datasets import load_digits\n",
    "digits = load_digits()\n",
    "\n",
    "#check out the poorly drawn digit\n",
    "import matplotlib.pyplot as plt \n",
    "plt.gray() \n",
    "plt.matshow(digits.images[2]) \n",
    "plt.show() "
   ]
  },
  {
   "cell_type": "code",
   "execution_count": null,
   "id": "c9e0dea5-924d-4b16-8a44-522c58c1b85d",
   "metadata": {},
   "outputs": [],
   "source": []
  }
 ],
 "metadata": {
  "kernelspec": {
   "display_name": "Python 3",
   "language": "python",
   "name": "python3"
  },
  "language_info": {
   "codemirror_mode": {
    "name": "ipython",
    "version": 3
   },
   "file_extension": ".py",
   "mimetype": "text/x-python",
   "name": "python",
   "nbconvert_exporter": "python",
   "pygments_lexer": "ipython3",
   "version": "3.8.8"
  }
 },
 "nbformat": 4,
 "nbformat_minor": 5
}
